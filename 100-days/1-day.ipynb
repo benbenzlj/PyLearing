{
 "cells": [
  {
   "cell_type": "markdown",
   "metadata": {},
   "source": [
    "# 字符串"
   ]
  },
  {
   "cell_type": "code",
   "execution_count": 24,
   "metadata": {},
   "outputs": [
    {
     "name": "stdout",
     "output_type": "stream",
     "text": [
      "\"Isn't ,they said.\"\n",
      "c:\\some\\name\n",
      "Usage: thingy [OPTIONS]\n",
      "    -h            Display this usage message\n",
      "    -H hostname   Hostname to connect to\n",
      "\n",
      "Usage: thingy [OPTIONS]\n",
      "    -h            Display this usage message\n",
      "    -H hostname   Hostname to connect to\n",
      "\n",
      "unununium\n",
      "Python\n",
      "this is a long string\n"
     ]
    },
    {
     "data": {
      "text/plain": [
       "'on'"
      ]
     },
     "execution_count": 24,
     "metadata": {},
     "output_type": "execute_result"
    }
   ],
   "source": [
    "import string\n",
    "# 转义字符\n",
    "s = '\"Isn\\'t ,they said.\"'\n",
    "print(s)\n",
    "# 转义字符输出,在字符串前加r\n",
    "print(r'c:\\some\\name')\n",
    "# 多行输出 \n",
    "# 1.前面加\"\"\" ....\"\"\"\n",
    "# 2.前面加'''.........'''\n",
    "print(\"\"\"\\\n",
    "Usage: thingy [OPTIONS]\n",
    "    -h            Display this usage message\n",
    "    -H hostname   Hostname to connect to\n",
    "\"\"\")\n",
    "print('''\\\n",
    "Usage: thingy [OPTIONS]\n",
    "    -h            Display this usage message\n",
    "    -H hostname   Hostname to connect to\n",
    "''')\n",
    "# 字符串可以用+ 合并在一起 ,可以用*重复\n",
    "print(3*'un'+'ium')\n",
    "# 相邻两个字面值会自动合并\n",
    "print('Py''thon')\n",
    "# 拼接长字串，比较有用\n",
    "s = ('this is a '\n",
    "'long string')\n",
    "print(s)\n",
    "# 字符串支持索引下标访问\n",
    "word = 'Python'\n",
    "word[0]\n",
    "# 索引还支持负数，用负数索引时，从右边开始计数\n",
    "word[-1]\n",
    "# 除了索引，还支持切片。索引可以提取单个字符，切片则提取子字符串\n",
    "word[0:2] # 从位置0（包含) 至 2 (不包含) 取字符串\n",
    "# 索引越界会报错，但切片不会\n",
    "#word[42] # 报错\n",
    "word[4:42]"
   ]
  }
 ],
 "metadata": {
  "kernelspec": {
   "display_name": "Python 3.10.0 ('env')",
   "language": "python",
   "name": "python3"
  },
  "language_info": {
   "codemirror_mode": {
    "name": "ipython",
    "version": 3
   },
   "file_extension": ".py",
   "mimetype": "text/x-python",
   "name": "python",
   "nbconvert_exporter": "python",
   "pygments_lexer": "ipython3",
   "version": "3.10.0"
  },
  "orig_nbformat": 4,
  "vscode": {
   "interpreter": {
    "hash": "d962599f7e8895bb1a2635099154af26c89bba43cd526add2116b3bf57f6a1bc"
   }
  }
 },
 "nbformat": 4,
 "nbformat_minor": 2
}
