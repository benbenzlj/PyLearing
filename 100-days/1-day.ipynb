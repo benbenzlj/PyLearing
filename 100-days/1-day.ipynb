{
 "cells": [
  {
   "cell_type": "markdown",
   "metadata": {},
   "source": [
    "# 字符串"
   ]
  },
  {
   "cell_type": "code",
   "execution_count": 9,
   "metadata": {},
   "outputs": [
    {
     "name": "stdout",
     "output_type": "stream",
     "text": [
      "\"Isn't ,they said.\"\n",
      "c:\\some\\name\n"
     ]
    }
   ],
   "source": [
    "import string\n",
    "# 转义字符\n",
    "s = '\"Isn\\'t ,they said.\"'\n",
    "print(s)\n",
    "# 转义字符输出,在字符串前加r\n",
    "print(r'c:\\some\\name')"
   ]
  }
 ],
 "metadata": {
  "kernelspec": {
   "display_name": "Python 3.10.0 ('env')",
   "language": "python",
   "name": "python3"
  },
  "language_info": {
   "codemirror_mode": {
    "name": "ipython",
    "version": 3
   },
   "file_extension": ".py",
   "mimetype": "text/x-python",
   "name": "python",
   "nbconvert_exporter": "python",
   "pygments_lexer": "ipython3",
   "version": "3.10.0"
  },
  "orig_nbformat": 4,
  "vscode": {
   "interpreter": {
    "hash": "d962599f7e8895bb1a2635099154af26c89bba43cd526add2116b3bf57f6a1bc"
   }
  }
 },
 "nbformat": 4,
 "nbformat_minor": 2
}
