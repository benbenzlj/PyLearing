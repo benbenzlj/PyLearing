{
 "cells": [
  {
   "cell_type": "markdown",
   "metadata": {},
   "source": [
    "# 字符串"
   ]
  },
  {
   "cell_type": "code",
   "execution_count": 1,
   "metadata": {},
   "outputs": [
    {
     "name": "stdout",
     "output_type": "stream",
     "text": [
      "\"Isn't ,they said.\"\n",
      "c:\\some\\name\n",
      "Usage: thingy [OPTIONS]\n",
      "    -h            Display this usage message\n",
      "    -H hostname   Hostname to connect to\n",
      "\n",
      "Usage: thingy [OPTIONS]\n",
      "    -h            Display this usage message\n",
      "    -H hostname   Hostname to connect to\n",
      "\n",
      "unununium\n",
      "Python\n",
      "this is a long string\n"
     ]
    },
    {
     "data": {
      "text/plain": [
       "6"
      ]
     },
     "execution_count": 1,
     "metadata": {},
     "output_type": "execute_result"
    }
   ],
   "source": [
    "import string\n",
    "# 转义字符\n",
    "s = '\"Isn\\'t ,they said.\"'\n",
    "print(s)\n",
    "# 转义字符输出,在字符串前加r\n",
    "print(r'c:\\some\\name')\n",
    "# 多行输出 \n",
    "# 1.前面加\"\"\" ....\"\"\"\n",
    "# 2.前面加'''.........'''\n",
    "print(\"\"\"\\\n",
    "Usage: thingy [OPTIONS]\n",
    "    -h            Display this usage message\n",
    "    -H hostname   Hostname to connect to\n",
    "\"\"\")\n",
    "print('''\\\n",
    "Usage: thingy [OPTIONS]\n",
    "    -h            Display this usage message\n",
    "    -H hostname   Hostname to connect to\n",
    "''')\n",
    "# 字符串可以用+ 合并在一起 ,可以用*重复\n",
    "print(3*'un'+'ium')\n",
    "# 相邻两个字面值会自动合并\n",
    "print('Py''thon')\n",
    "# 拼接长字串，比较有用\n",
    "s = ('this is a '\n",
    "'long string')\n",
    "print(s)\n",
    "# 字符串支持索引下标访问\n",
    "word = 'Python'\n",
    "word[0]\n",
    "# 索引还支持负数，用负数索引时，从右边开始计数\n",
    "word[-1]\n",
    "# 除了索引，还支持切片。索引可以提取单个字符，切片则提取子字符串\n",
    "word[0:2] # 从位置0（包含) 至 2 (不包含) 取字符串\n",
    "# 索引越界会报错，但切片不会\n",
    "#word[42] # 报错\n",
    "word[4:42]\n",
    "# 返回字符串长度\n",
    "len(word)\n"
   ]
  },
  {
   "cell_type": "markdown",
   "metadata": {},
   "source": [
    "# 列表"
   ]
  },
  {
   "cell_type": "code",
   "execution_count": 13,
   "metadata": {},
   "outputs": [
    {
     "data": {
      "text/plain": [
       "[1, 3, 4, 9, 16, 25, 3, 4, 5, 6]"
      ]
     },
     "execution_count": 13,
     "metadata": {},
     "output_type": "execute_result"
    }
   ],
   "source": [
    "squares = [1,3,4,9,16,25]\n",
    "squares\n",
    "# 列表也支持切片\n",
    "# 省略开始时，从位置0开始，省略结束时，默认值到字符串的结尾\n",
    "squares[1:3]\n",
    "squares[-4:-2]\n",
    "# 切片操作返回包含请求元素的新列表，返回元素的浅拷贝\n",
    "squares[:]\n",
    "# 列表支持合并操作\n",
    "squares + [3,4,5,6]"
   ]
  }
 ],
 "metadata": {
  "kernelspec": {
   "display_name": "Python 3.9.12 ('base')",
   "language": "python",
   "name": "python3"
  },
  "language_info": {
   "codemirror_mode": {
    "name": "ipython",
    "version": 3
   },
   "file_extension": ".py",
   "mimetype": "text/x-python",
   "name": "python",
   "nbconvert_exporter": "python",
   "pygments_lexer": "ipython3",
   "version": "3.9.12"
  },
  "orig_nbformat": 4,
  "vscode": {
   "interpreter": {
    "hash": "19d1d53a962d236aa061289c2ac16dc8e6d9648c89fe79f459ae9a3493bc67b4"
   }
  }
 },
 "nbformat": 4,
 "nbformat_minor": 2
}
